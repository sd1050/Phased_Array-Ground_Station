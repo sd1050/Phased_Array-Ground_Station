{
 "cells": [
  {
   "cell_type": "code",
   "execution_count": 70,
   "metadata": {},
   "outputs": [],
   "source": [
    "import numpy as np\n",
    "import matplotlib.pyplot as plt\n",
    "import scipy.signal as signal"
   ]
  },
  {
   "cell_type": "markdown",
   "metadata": {},
   "source": [
    "# Functions"
   ]
  },
  {
   "cell_type": "code",
   "execution_count": 2,
   "metadata": {},
   "outputs": [],
   "source": [
    "# Steering Vector Function\n",
    "def gen_steering_vectors(array_alignment, thetas):\n",
    "    M = np.size(array_alignment, 0)  # Number of antenna elements    \n",
    "    steering_vectors = np.zeros((M, np.size(thetas)), dtype=complex)\n",
    "    for i in range(np.size(thetas)):    \n",
    "        steering_vectors[:, i] = np.exp(array_alignment*1j*2*np.pi*np.cos(np.radians(thetas[i]))) # Scanning vector      \n",
    "        \n",
    "    return steering_vectors"
   ]
  },
  {
   "cell_type": "code",
   "execution_count": 3,
   "metadata": {},
   "outputs": [],
   "source": [
    "# DoA Estimation Function\n",
    "def DoA_MVDR(R,steering_vectors):\n",
    "    R_inv  = np.linalg.inv(R) # invert the cross correlation matrix\n",
    "    theta_index=0\n",
    "    ADSINR = np.zeros(np.size(steering_vectors,1))\n",
    "    for i in range(np.size(steering_vectors, 1)):             \n",
    "        S_theta_ = steering_vectors[:, i]\n",
    "        ADSINR[theta_index]=1*np.dot(np.conj(S_theta_),np.dot(R_inv,S_theta_))\n",
    "        theta_index += 1\n",
    "    \n",
    "    ADSINR = np.reciprocal(ADSINR)\n",
    "        \n",
    "    return ADSINR"
   ]
  },
  {
   "cell_type": "code",
   "execution_count": 4,
   "metadata": {},
   "outputs": [],
   "source": [
    "def MVDR_1D_Beamformer_Weights(theta,steering_vectors,R):\n",
    "    R_inv  = np.linalg.inv(R) # invert the cross correlation matrix\n",
    "    S_theta = steering_vectors[:, theta]\n",
    "    weights = np.dot(R_inv,S_theta)/np.dot(np.conj(S_theta),np.dot(R_inv,S_theta))\n",
    "    \n",
    "    return weights"
   ]
  },
  {
   "cell_type": "code",
   "execution_count": 5,
   "metadata": {},
   "outputs": [],
   "source": [
    "def MVDR_1D_Beamformer(rec_signal_1, rec_signal_2, weights_1, weights_2):\n",
    "    updated_rec_signal_1 = np.dot(rec_signal_1.T,weights_1)\n",
    "    print(np.shape(updated_rec_signal_1))\n",
    "    updated_rec_signal_2 = np.dot(rec_signal_2.T,weights_2)\n",
    "    updated_rec_signal_total = updated_rec_signal_1 + updated_rec_signal_2\n",
    "    \n",
    "    return updated_rec_signal_total"
   ]
  },
  {
   "cell_type": "markdown",
   "metadata": {},
   "source": [
    "# Setting it Up"
   ]
  },
  {
   "cell_type": "code",
   "execution_count": 6,
   "metadata": {},
   "outputs": [],
   "source": [
    "## Create Phased Array\n",
    "d = 0.5 # Inter element spacing [lambda]\n",
    "M = 2  # number of antenna elements in the antenna system (ULA)"
   ]
  },
  {
   "cell_type": "code",
   "execution_count": 7,
   "metadata": {},
   "outputs": [],
   "source": [
    "# Calulate Steering Vector\n",
    "array_alignment = np.arange(0, M, 1)* d\n",
    "incident_angles= np.arange(0,181,1)\n",
    "steering_vectors = gen_steering_vectors(array_alignment, incident_angles)"
   ]
  },
  {
   "cell_type": "markdown",
   "metadata": {},
   "source": [
    "# Testing Synced Data"
   ]
  },
  {
   "cell_type": "code",
   "execution_count": 190,
   "metadata": {},
   "outputs": [],
   "source": [
    "antenna_1 = np.fromfile(\"sync-stream1-2\", dtype=\"float32\")  # Loads data as float32 format\n",
    "antenna_1 = antenna_1.astype(np.float32).view(np.complex64) # Converts to float64 complex\n",
    "antenna_2 = np.fromfile(\"sync-stream2-2\", dtype=\"float32\")\n",
    "antenna_2 = antenna_2.astype(np.float32).view(np.complex64)"
   ]
  },
  {
   "cell_type": "code",
   "execution_count": 191,
   "metadata": {
    "scrolled": true
   },
   "outputs": [],
   "source": [
    "start = 10000\n",
    "end = 552101\n",
    "end_of_file = 552101\n",
    "rec_signal = np.vstack((antenna_1[start:end].T,antenna_2[start:end].T))\n",
    "R = np.corrcoef(rec_signal)"
   ]
  },
  {
   "cell_type": "code",
   "execution_count": 192,
   "metadata": {
    "scrolled": true
   },
   "outputs": [
    {
     "name": "stdout",
     "output_type": "stream",
     "text": [
      "41\n"
     ]
    },
    {
     "name": "stderr",
     "output_type": "stream",
     "text": [
      "/projects/community/py-data-science-stack/5.1.0/kp807/envs/biopython/lib/python3.6/site-packages/ipykernel_launcher.py:8: ComplexWarning: Casting complex values to real discards the imaginary part\n",
      "  \n"
     ]
    }
   ],
   "source": [
    "DoA_spectrum = DoA_MVDR(R,steering_vectors)\n",
    "DoA_Azimuth = np.argmax(DoA_spectrum)\n",
    "print(DoA_Azimuth)"
   ]
  },
  {
   "cell_type": "code",
   "execution_count": 194,
   "metadata": {
    "scrolled": false
   },
   "outputs": [],
   "source": [
    "#plt.plot(DoA_spectrum)"
   ]
  },
  {
   "cell_type": "code",
   "execution_count": 197,
   "metadata": {},
   "outputs": [],
   "source": [
    "weights = np.reshape(MVDR_1D_Beamformer_Weights(DoA_Azimuth,steering_vectors,R),[2,1])"
   ]
  },
  {
   "cell_type": "markdown",
   "metadata": {},
   "source": [
    "# Testing Unsynced Data"
   ]
  },
  {
   "cell_type": "code",
   "execution_count": 200,
   "metadata": {},
   "outputs": [],
   "source": [
    "antenna_1_non = np.fromfile(\"sync-stream1-2\", dtype=\"float32\")  # Loads data as float32 format\n",
    "antenna_1_non = antenna_1_non.astype(np.float32).view(np.complex64) # Converts to float64 complex\n",
    "antenna_2_non = np.fromfile(\"sync-stream2-2\", dtype=\"float32\")\n",
    "antenna_2_non = antenna_2_non.astype(np.float32).view(np.complex64)"
   ]
  },
  {
   "cell_type": "code",
   "execution_count": 201,
   "metadata": {},
   "outputs": [],
   "source": [
    "start = 10000\n",
    "end = 400135\n",
    "end_of_file = 400135\n",
    "rec_signal_non = np.vstack((antenna_1_non[start:end].T,antenna_2_non[start:end].T))\n",
    "np.shape(rec_signal_non)\n",
    "R_non = np.corrcoef(rec_signal_non)"
   ]
  },
  {
   "cell_type": "code",
   "execution_count": 205,
   "metadata": {
    "scrolled": true
   },
   "outputs": [
    {
     "name": "stdout",
     "output_type": "stream",
     "text": [
      "45\n"
     ]
    },
    {
     "name": "stderr",
     "output_type": "stream",
     "text": [
      "/projects/community/py-data-science-stack/5.1.0/kp807/envs/biopython/lib/python3.6/site-packages/ipykernel_launcher.py:8: ComplexWarning: Casting complex values to real discards the imaginary part\n",
      "  \n"
     ]
    }
   ],
   "source": [
    "DoA_spectrum = DoA_MVDR(R_non,steering_vectors)\n",
    "DoA_Azimuth = np.argmax(DoA_spectrum)\n",
    "print(DoA_Azimuth)"
   ]
  },
  {
   "cell_type": "code",
   "execution_count": 207,
   "metadata": {
    "scrolled": false
   },
   "outputs": [],
   "source": [
    "#plt.plot(DoA_spectrum)"
   ]
  },
  {
   "cell_type": "code",
   "execution_count": 204,
   "metadata": {},
   "outputs": [],
   "source": [
    "weights = np.reshape(MVDR_1D_Beamformer_Weights(DoA_Azimuth,steering_vectors,R_non),[2,1])"
   ]
  },
  {
   "cell_type": "markdown",
   "metadata": {},
   "source": [
    "# Other Simulation"
   ]
  },
  {
   "cell_type": "code",
   "execution_count": 82,
   "metadata": {},
   "outputs": [],
   "source": [
    "## Create Phased Array\n",
    "d = 0.5 # Inter element spacing [lambda]\n",
    "M = 2  # number of antenna elements in the antenna system (ULA)\n",
    "\n",
    "#Test Signal Parameters\n",
    "N = 2**12 # Samples used for test signal\n",
    "azimuth = 60; # Incidence azimuth\n",
    "elevation = 90; # Incidence elevation\n",
    "\n",
    "# Array response vectors of the test signal broken into x,y subsets\n",
    "x1 = np.exp(np.arange(0,M,1)*1j*2*np.pi*d*np.cos(np.deg2rad(azimuth)))\n",
    "x2 = np.exp(np.arange(0,M,1)*1j*2*np.pi*d*np.cos(np.deg2rad(azimuth)))\n",
    "y1 = np.exp(np.arange(0,M,1)*1j*2*np.pi*d*np.cos(np.deg2rad(elevation)))\n",
    "y2 = np.exp(np.arange(0,M,1)*1j*2*np.pi*d*np.cos(np.deg2rad(elevation)))"
   ]
  },
  {
   "cell_type": "code",
   "execution_count": 3,
   "metadata": {},
   "outputs": [],
   "source": [
    "# Generate multichannel test signal for x1\n",
    "soi = np.random.normal(0,1,N)  # Signal of Interest\n",
    "soi_matrix  = np.outer( soi, x1).T \n",
    "\n",
    "# Generate multichannel uncorrelated noise\n",
    "noise = np.random.normal(0,np.sqrt(10**-1),(M,N))\n",
    "\n",
    "# Create received signal array\n",
    "rec_signal_x1 = soi_matrix + noise\n",
    "\n",
    "# Generate multichannel test signal for x2\n",
    "soi = np.random.normal(0,1,N)  # Signal of Interest\n",
    "soi_matrix  = np.outer( soi, x2).T \n",
    "\n",
    "# Generate multichannel uncorrelated noise\n",
    "noise = np.random.normal(0,np.sqrt(10**-1),(M,N))\n",
    "\n",
    "# Create received signal array\n",
    "rec_signal_x2 = soi_matrix + noise\n",
    "\n",
    "# Generate multichannel test signal for y1\n",
    "soi = np.random.normal(0,1,N)  # Signal of Interest\n",
    "soi_matrix  = np.outer( soi, y1).T \n",
    "\n",
    "# Generate multichannel uncorrelated noise\n",
    "noise = np.random.normal(0,np.sqrt(10**-1),(M,N))\n",
    "\n",
    "# Create received signal array\n",
    "rec_signal_y1 = soi_matrix + noise\n",
    "\n",
    "# Generate multichannel test signal for y2\n",
    "soi = np.random.normal(0,1,N)  # Signal of Interest\n",
    "soi_matrix  = np.outer( soi, y2).T \n",
    "\n",
    "# Generate multichannel uncorrelated noise\n",
    "noise = np.random.normal(0,np.sqrt(10**-1),(M,N))\n",
    "\n",
    "# Create received signal array\n",
    "rec_signal_y2 = soi_matrix + noise"
   ]
  },
  {
   "cell_type": "code",
   "execution_count": 4,
   "metadata": {},
   "outputs": [],
   "source": [
    "# Calculate Correlation Coefficient\n",
    "R_x1 = np.corrcoef(rec_signal_x1)\n",
    "R_x2 = np.corrcoef(rec_signal_x2)\n",
    "R_y1 = np.corrcoef(rec_signal_y1)\n",
    "R_y2 = np.corrcoef(rec_signal_y2)"
   ]
  },
  {
   "cell_type": "code",
   "execution_count": 53,
   "metadata": {},
   "outputs": [],
   "source": [
    "# Calulate Steering Vector\n",
    "array_alignment = np.arange(0, M, 1)* d\n",
    "incident_angles= np.arange(0,181,1)\n",
    "steering_vectors = gen_steering_vectors(array_alignment, incident_angles)"
   ]
  },
  {
   "cell_type": "code",
   "execution_count": 54,
   "metadata": {},
   "outputs": [
    {
     "data": {
      "text/plain": [
       "(2, 181)"
      ]
     },
     "execution_count": 54,
     "metadata": {},
     "output_type": "execute_result"
    }
   ],
   "source": [
    "np.shape(steering_vectors)"
   ]
  },
  {
   "cell_type": "code",
   "execution_count": 69,
   "metadata": {},
   "outputs": [
    {
     "name": "stderr",
     "output_type": "stream",
     "text": [
      "/projects/community/py-data-science-stack/5.1.0/kp807/envs/biopython/lib/python3.6/site-packages/ipykernel_launcher.py:8: ComplexWarning: Casting complex values to real discards the imaginary part\n",
      "  \n"
     ]
    }
   ],
   "source": [
    "DoA_Azimuth_1 = DoA_MVDR(R_x1,steering_vectors)"
   ]
  },
  {
   "cell_type": "code",
   "execution_count": 68,
   "metadata": {},
   "outputs": [
    {
     "name": "stderr",
     "output_type": "stream",
     "text": [
      "/projects/community/py-data-science-stack/5.1.0/kp807/envs/biopython/lib/python3.6/site-packages/ipykernel_launcher.py:8: ComplexWarning: Casting complex values to real discards the imaginary part\n",
      "  \n"
     ]
    },
    {
     "ename": "NameError",
     "evalue": "name 'R_x2' is not defined",
     "output_type": "error",
     "traceback": [
      "\u001b[0;31m---------------------------------------------------------------------------\u001b[0m",
      "\u001b[0;31mNameError\u001b[0m                                 Traceback (most recent call last)",
      "\u001b[0;32m<ipython-input-68-d16dc3daaa06>\u001b[0m in \u001b[0;36m<module>\u001b[0;34m()\u001b[0m\n\u001b[1;32m      1\u001b[0m \u001b[0mDoA_Azimuth_1\u001b[0m \u001b[0;34m=\u001b[0m \u001b[0mDoA_MVDR\u001b[0m\u001b[0;34m(\u001b[0m\u001b[0mR_x1\u001b[0m\u001b[0;34m,\u001b[0m\u001b[0msteering_vectors\u001b[0m\u001b[0;34m)\u001b[0m\u001b[0;34m\u001b[0m\u001b[0m\n\u001b[0;32m----> 2\u001b[0;31m \u001b[0mDoA_Azimuth_2\u001b[0m \u001b[0;34m=\u001b[0m \u001b[0mDoA_MVDR\u001b[0m\u001b[0;34m(\u001b[0m\u001b[0mR_x2\u001b[0m\u001b[0;34m,\u001b[0m\u001b[0msteering_vectors\u001b[0m\u001b[0;34m)\u001b[0m\u001b[0;34m\u001b[0m\u001b[0m\n\u001b[0m\u001b[1;32m      3\u001b[0m \u001b[0mDoA_Elevation_1\u001b[0m \u001b[0;34m=\u001b[0m \u001b[0mDoA_MVDR\u001b[0m\u001b[0;34m(\u001b[0m\u001b[0mR_y1\u001b[0m\u001b[0;34m,\u001b[0m\u001b[0msteering_vectors\u001b[0m\u001b[0;34m)\u001b[0m\u001b[0;34m\u001b[0m\u001b[0m\n\u001b[1;32m      4\u001b[0m \u001b[0mDoA_Elevation_2\u001b[0m \u001b[0;34m=\u001b[0m \u001b[0mDoA_MVDR\u001b[0m\u001b[0;34m(\u001b[0m\u001b[0mR_y2\u001b[0m\u001b[0;34m,\u001b[0m\u001b[0msteering_vectors\u001b[0m\u001b[0;34m)\u001b[0m\u001b[0;34m\u001b[0m\u001b[0m\n",
      "\u001b[0;31mNameError\u001b[0m: name 'R_x2' is not defined"
     ]
    }
   ],
   "source": [
    "DoA_Azimuth_1 = DoA_MVDR(R_x1,steering_vectors)\n",
    "DoA_Azimuth_2 = DoA_MVDR(R_x2,steering_vectors)\n",
    "DoA_Elevation_1 = DoA_MVDR(R_y1,steering_vectors)\n",
    "DoA_Elevation_2 = DoA_MVDR(R_y2,steering_vectors)"
   ]
  },
  {
   "cell_type": "code",
   "execution_count": 70,
   "metadata": {},
   "outputs": [
    {
     "data": {
      "text/plain": [
       "[<matplotlib.lines.Line2D at 0x2b1b8fb4aa58>]"
      ]
     },
     "execution_count": 70,
     "metadata": {},
     "output_type": "execute_result"
    },
    {
     "data": {
      "image/png": "[encoded data removed]",
      "text/plain": [
       "<matplotlib.figure.Figure at 0x2b1b8fb155c0>"
      ]
     },
     "metadata": {},
     "output_type": "display_data"
    }
   ],
   "source": [
    "plt.plot(DoA_Azimuth_1)"
   ]
  },
  {
   "cell_type": "code",
   "execution_count": 10,
   "metadata": {},
   "outputs": [
    {
     "data": {
      "text/plain": [
       "[<matplotlib.lines.Line2D at 0x2b50c3262fd0>]"
      ]
     },
     "execution_count": 10,
     "metadata": {},
     "output_type": "execute_result"
    },
    {
     "data": {
      "image/png": "[encoded data removed]",
      "text/plain": [
       "<matplotlib.figure.Figure at 0x2b50bb69d240>"
      ]
     },
     "metadata": {},
     "output_type": "display_data"
    }
   ],
   "source": [
    "plt.plot(DoA_Azimuth_2)"
   ]
  },
  {
   "cell_type": "code",
   "execution_count": 11,
   "metadata": {},
   "outputs": [
    {
     "data": {
      "text/plain": [
       "[<matplotlib.lines.Line2D at 0x2b50c32cad68>]"
      ]
     },
     "execution_count": 11,
     "metadata": {},
     "output_type": "execute_result"
    },
    {
     "data": {
      "image/png": "[encoded data removed]",
      "text/plain": [
       "<matplotlib.figure.Figure at 0x2b50c3241320>"
      ]
     },
     "metadata": {},
     "output_type": "display_data"
    }
   ],
   "source": [
    "plt.plot(DoA_Elevation_1)"
   ]
  },
  {
   "cell_type": "code",
   "execution_count": 12,
   "metadata": {},
   "outputs": [
    {
     "data": {
      "text/plain": [
       "[<matplotlib.lines.Line2D at 0x2b50c3332128>]"
      ]
     },
     "execution_count": 12,
     "metadata": {},
     "output_type": "execute_result"
    },
    {
     "data": {
      "image/png": "[encoded data removed]",
      "text/plain": [
       "<matplotlib.figure.Figure at 0x2b50c32e6860>"
      ]
     },
     "metadata": {},
     "output_type": "display_data"
    }
   ],
   "source": [
    "plt.plot(DoA_Elevation_2)"
   ]
  },
  {
   "cell_type": "code",
   "execution_count": 13,
   "metadata": {},
   "outputs": [],
   "source": [
    "DoA_Azimuth_Array = 0.5*(DoA_Azimuth_1 + DoA_Azimuth_2)\n",
    "DoA_Elevation_Array = 0.5*(DoA_Elevation_1 + DoA_Elevation_2)"
   ]
  },
  {
   "cell_type": "code",
   "execution_count": 14,
   "metadata": {},
   "outputs": [],
   "source": [
    "DoA_Azimuth = np.argmax(DoA_Azimuth_Array)\n",
    "DoA_Elevation = np.argmax(DoA_Elevation_Array)"
   ]
  },
  {
   "cell_type": "code",
   "execution_count": 15,
   "metadata": {},
   "outputs": [
    {
     "name": "stdout",
     "output_type": "stream",
     "text": [
      "60\n",
      "90\n"
     ]
    }
   ],
   "source": [
    "print(DoA_Azimuth)\n",
    "print(DoA_Elevation)"
   ]
  },
  {
   "cell_type": "code",
   "execution_count": 17,
   "metadata": {},
   "outputs": [],
   "source": [
    "weights_x1 = np.reshape(MVDR_1D_Beamformer_Weights(DoA_Azimuth,steering_vectors,R_x1),[2,1])\n",
    "weights_x2 = np.reshape(MVDR_1D_Beamformer_Weights(DoA_Azimuth,steering_vectors,R_x2),[2,1])\n",
    "weights_y1 = np.reshape(MVDR_1D_Beamformer_Weights(DoA_Elevation,steering_vectors,R_y1),[2,1])\n",
    "weights_y2 = np.reshape(MVDR_1D_Beamformer_Weights(DoA_Elevation,steering_vectors,R_y2),[2,1])"
   ]
  },
  {
   "cell_type": "code",
   "execution_count": 18,
   "metadata": {},
   "outputs": [
    {
     "name": "stdout",
     "output_type": "stream",
     "text": [
      "[[0.5       +0.01193898j]\n",
      " [0.01193898+0.5j       ]]\n",
      "[[0.5       +0.02355441j]\n",
      " [0.02355441+0.5j       ]]\n",
      "[[0.5-1.08241272e-18j]\n",
      " [0.5+9.72659474e-17j]]\n",
      "[[0.5+2.08193681e-18j]\n",
      " [0.5+9.41015979e-17j]]\n"
     ]
    }
   ],
   "source": [
    "print(weights_x1)\n",
    "print(weights_x2)\n",
    "print(weights_y1)\n",
    "print(weights_y2)"
   ]
  },
  {
   "cell_type": "code",
   "execution_count": 20,
   "metadata": {},
   "outputs": [
    {
     "name": "stdout",
     "output_type": "stream",
     "text": [
      "(4096, 1)\n",
      "(4096, 1)\n"
     ]
    }
   ],
   "source": [
    "final_updated_signal_xdirection = MVDR_1D_Beamformer(rec_signal_x1,rec_signal_x2,weights_x1,weights_x2)\n",
    "final_updated_signal_ydirection = MVDR_1D_Beamformer(rec_signal_y1,rec_signal_y2,weights_y1,weights_y2)"
   ]
  },
  {
   "cell_type": "code",
   "execution_count": 21,
   "metadata": {},
   "outputs": [
    {
     "name": "stderr",
     "output_type": "stream",
     "text": [
      "/projects/community/py-data-science-stack/5.1.0/kp807/envs/biopython/lib/python3.6/site-packages/numpy/core/numeric.py:492: ComplexWarning: Casting complex values to real discards the imaginary part\n",
      "  return array(a, dtype, copy=False, order=order)\n"
     ]
    },
    {
     "data": {
      "text/plain": [
       "[<matplotlib.lines.Line2D at 0x2b50c3394c50>]"
      ]
     },
     "execution_count": 21,
     "metadata": {},
     "output_type": "execute_result"
    },
    {
     "data": {
      "image/png": "[encoded data removed]",
      "text/plain": [
       "<matplotlib.figure.Figure at 0x2b50c33585f8>"
      ]
     },
     "metadata": {},
     "output_type": "display_data"
    }
   ],
   "source": [
    "plt.plot(final_updated_signal_xdirection)"
   ]
  },
  {
   "cell_type": "code",
   "execution_count": 22,
   "metadata": {},
   "outputs": [
    {
     "name": "stderr",
     "output_type": "stream",
     "text": [
      "/projects/community/py-data-science-stack/5.1.0/kp807/envs/biopython/lib/python3.6/site-packages/numpy/core/numeric.py:492: ComplexWarning: Casting complex values to real discards the imaginary part\n",
      "  return array(a, dtype, copy=False, order=order)\n"
     ]
    },
    {
     "data": {
      "text/plain": [
       "[<matplotlib.lines.Line2D at 0x2b50c3664c88>]"
      ]
     },
     "execution_count": 22,
     "metadata": {},
     "output_type": "execute_result"
    },
    {
     "data": {
      "image/png": "[encoded data removed]",
      "text/plain": [
       "<matplotlib.figure.Figure at 0x2b50c33760f0>"
      ]
     },
     "metadata": {},
     "output_type": "display_data"
    }
   ],
   "source": [
    "plt.plot(final_updated_signal_ydirection)"
   ]
  },
  {
   "cell_type": "code",
   "execution_count": 24,
   "metadata": {},
   "outputs": [
    {
     "ename": "SyntaxError",
     "evalue": "invalid syntax (<ipython-input-24-e227c774aa11>, line 5)",
     "output_type": "error",
     "traceback": [
      "\u001b[0;36m  File \u001b[0;32m\"<ipython-input-24-e227c774aa11>\"\u001b[0;36m, line \u001b[0;32m5\u001b[0m\n\u001b[0;31m    for j in range(np.size(phis))\u001b[0m\n\u001b[0m                                 ^\u001b[0m\n\u001b[0;31mSyntaxError\u001b[0m\u001b[0;31m:\u001b[0m invalid syntax\n"
     ]
    }
   ],
   "source": [
    "    M_x = np.size(array_alignment_x, 0)  # Number of antenna elements in x\n",
    "    M_y = np.size(array_alignment_y,0) # Number of antenna elements in y\n",
    "    steering_vectors = np.zeros((M_x, M_y,  np.size(thetas), np.size(phis)), dtype=complex)\n",
    "    for i in range(np.size(thetas)): \n",
    "        for j in range(np.size(phis))\n",
    "            steering_vectors[:,:,i, j] = np.exp(array_alignment*1j*2*np.pi*np.cos(np.radians(thetas[i]))) # Scanning vector "
   ]
  },
  {
   "cell_type": "code",
   "execution_count": null,
   "metadata": {},
   "outputs": [],
   "source": []
  },
  {
   "cell_type": "code",
   "execution_count": null,
   "metadata": {},
   "outputs": [],
   "source": []
  }
 ],
 "metadata": {
  "kernelspec": {
   "display_name": "Python 3",
   "language": "python",
   "name": "python3"
  },
  "language_info": {
   "codemirror_mode": {
    "name": "ipython",
    "version": 3
   },
   "file_extension": ".py",
   "mimetype": "text/x-python",
   "name": "python",
   "nbconvert_exporter": "python",
   "pygments_lexer": "ipython3",
   "version": "3.6.4"
  }
 },
 "nbformat": 4,
 "nbformat_minor": 4
}
